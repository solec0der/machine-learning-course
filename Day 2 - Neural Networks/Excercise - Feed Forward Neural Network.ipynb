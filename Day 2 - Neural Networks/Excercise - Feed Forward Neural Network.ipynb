{
 "cells": [
  {
   "cell_type": "markdown",
   "metadata": {},
   "source": [
    "<img src=\"https://dsiag.ch/images/dsi_rgb.png\" alt=\"dsi logo\" width=\"100\" style=\"position: absolute; right: 0px;\"/>\n",
    "\n",
    "# Exercise: Feed Forward Neural Network\n",
    "\n",
    "### Load Fashion MNIST Dataset\n",
    "\n",
    "Fashion-MNIST is a dataset of Zalando’s article images \n",
    "\n",
    "https://research.zalando.com/welcome/mission/research-projects/fashion-mnist/\n"
   ]
  },
  {
   "cell_type": "code",
   "execution_count": 1,
   "metadata": {},
   "outputs": [],
   "source": [
    "import tensorflow as tf\n",
    "import matplotlib.pyplot as plt"
   ]
  },
  {
   "cell_type": "code",
   "execution_count": 8,
   "metadata": {},
   "outputs": [],
   "source": [
    "# fashion mnist is integrated into tf.keras.datasets\n",
    "fashion_mnist = tf.keras.datasets.fashion_mnist\n",
    "(train_images, train_labels), (test_images, test_labels) = fashion_mnist.load_data()\n",
    "\n",
    "# define class names\n",
    "class_names = ['T-shirt/top', 'Trouser', 'Pullover', 'Dress', 'Coat',\n",
    "               'Sandal', 'Shirt', 'Sneaker', 'Bag', 'Ankle boot']\n",
    "\n",
    "# Put grayscale values between 0 and 1\n",
    "train_images = train_images / 255.0\n",
    "test_images = test_images / 255.0\n",
    "\n",
    "# Convert Labels to One-Hot Encoding \n",
    "train_labels_one_hot = tf.one_hot(train_labels, len(class_names))\n",
    "test_labels_one_hot = tf.one_hot(test_labels, len(class_names))"
   ]
  },
  {
   "cell_type": "markdown",
   "metadata": {},
   "source": [
    "## Exercise Tasks\n",
    "\n",
    "**1. Create a sequential feed forward tensorflow model with the following properties:**\n",
    "- the 28x28 input images are flattened to a vector\n",
    "- the internal layer contains 128 nodes and is activated with the RELU function\n",
    "- the output layer has ten output logits (one for each class in the one-hot encoded label)\n",
    "- the softmax function is applied to the logits\n",
    "- it uses a stochastic gradient descent optimizer with a categorical crossentropy loss function\n",
    "\n",
    "How many trainable parameters has this model?\n",
    "\n",
    "**2. Train the model on the training data for 10 epochs**\n",
    "\n",
    "How good is the accuracy on the training data?\n",
    "    \n",
    "**3. Evaluate your model**\n",
    "\n",
    "How good is the accuracy on the test data?\n",
    "\n",
    "**4. How does it compare to the logistic regression model?**\n",
    "\n",
    "Logistic regression model: 0.8452\n",
    "Neural Network: 0.8823\n",
    "\n",
    "**5. (Optional) Can you improve your model?**\n",
    "\n",
    "\n",
    "#### Links / References:\n",
    "\n",
    "- TensorFlow Quick Start for Beginners: https://www.tensorflow.org/tutorials/quickstart/beginner\n",
    "- TensorFlow Keras Classification https://www.tensorflow.org/tutorials/keras/classification"
   ]
  },
  {
   "cell_type": "code",
   "execution_count": 20,
   "metadata": {},
   "outputs": [
    {
     "name": "stdout",
     "output_type": "stream",
     "text": [
      "Model: \"sequential_4\"\n",
      "_________________________________________________________________\n",
      " Layer (type)                Output Shape              Param #   \n",
      "=================================================================\n",
      " flatten_4 (Flatten)         (None, 784)               0         \n",
      "                                                                 \n",
      " dense_8 (Dense)             (None, 1024)              803840    \n",
      "                                                                 \n",
      " dense_9 (Dense)             (None, 10)                10250     \n",
      "                                                                 \n",
      " softmax_4 (Softmax)         (None, 10)                0         \n",
      "                                                                 \n",
      "=================================================================\n",
      "Total params: 814,090\n",
      "Trainable params: 814,090\n",
      "Non-trainable params: 0\n",
      "_________________________________________________________________\n"
     ]
    }
   ],
   "source": [
    "model = tf.keras.models.Sequential([\n",
    "    tf.keras.layers.Flatten(input_shape=(28, 28)),\n",
    "    tf.keras.layers.Dense(128, activation='relu'),\n",
    "    tf.keras.layers.Dense(10),\n",
    "    tf.keras.layers.Softmax()\n",
    "])\n",
    "\n",
    "model.compile(optimizer='adam',\n",
    "              loss=tf.keras.losses.CategoricalCrossentropy(),\n",
    "              metrics=['accuracy'])\n",
    "model.summary()"
   ]
  },
  {
   "cell_type": "code",
   "execution_count": 24,
   "outputs": [
    {
     "name": "stdout",
     "output_type": "stream",
     "text": [
      "Epoch 1/10\n",
      "1875/1875 [==============================] - 3s 2ms/step - loss: 0.1212 - accuracy: 0.9536\n",
      "Epoch 2/10\n",
      "1875/1875 [==============================] - 3s 2ms/step - loss: 0.1155 - accuracy: 0.9557\n",
      "Epoch 3/10\n",
      "1875/1875 [==============================] - 3s 2ms/step - loss: 0.1136 - accuracy: 0.9572\n",
      "Epoch 4/10\n",
      "1875/1875 [==============================] - 3s 2ms/step - loss: 0.1121 - accuracy: 0.9578\n",
      "Epoch 5/10\n",
      "1875/1875 [==============================] - 3s 2ms/step - loss: 0.1098 - accuracy: 0.9585\n",
      "Epoch 6/10\n",
      "1875/1875 [==============================] - 3s 2ms/step - loss: 0.1076 - accuracy: 0.9593\n",
      "Epoch 7/10\n",
      "1875/1875 [==============================] - 3s 2ms/step - loss: 0.1047 - accuracy: 0.9599\n",
      "Epoch 8/10\n",
      "1875/1875 [==============================] - 3s 2ms/step - loss: 0.1042 - accuracy: 0.9612\n",
      "Epoch 9/10\n",
      "1875/1875 [==============================] - 4s 2ms/step - loss: 0.0978 - accuracy: 0.9627\n",
      "Epoch 10/10\n",
      "1875/1875 [==============================] - 3s 2ms/step - loss: 0.0977 - accuracy: 0.9632\n"
     ]
    },
    {
     "data": {
      "text/plain": "<keras.callbacks.History at 0x310599c40>"
     },
     "execution_count": 24,
     "metadata": {},
     "output_type": "execute_result"
    }
   ],
   "source": [
    "# Train Model\n",
    "model.fit(train_images, train_labels_one_hot, epochs=10)"
   ],
   "metadata": {
    "collapsed": false,
    "pycharm": {
     "name": "#%%\n"
    }
   }
  },
  {
   "cell_type": "code",
   "execution_count": 27,
   "outputs": [
    {
     "name": "stdout",
     "output_type": "stream",
     "text": [
      "313/313 - 0s - loss: 0.5070 - accuracy: 0.8981 - 251ms/epoch - 802us/step\n",
      "313/313 [==============================] - 0s 849us/step\n"
     ]
    },
    {
     "data": {
      "text/plain": "array([[6.2961924e-18, 1.7391999e-29, 6.6048489e-26, ..., 6.0416845e-08,\n        6.2586974e-24, 9.9999988e-01],\n       [2.9869476e-08, 2.1247394e-23, 9.9999487e-01, ..., 8.0535433e-29,\n        1.7598547e-20, 3.8173068e-22],\n       [5.0645274e-23, 1.0000000e+00, 7.1207727e-38, ..., 0.0000000e+00,\n        2.1250824e-38, 0.0000000e+00],\n       ...,\n       [2.2701940e-13, 0.0000000e+00, 2.5451345e-33, ..., 3.3107783e-27,\n        1.0000000e+00, 0.0000000e+00],\n       [6.7225560e-29, 1.0000000e+00, 3.1709906e-32, ..., 0.0000000e+00,\n        2.0454715e-25, 0.0000000e+00],\n       [4.2346504e-09, 1.4363624e-14, 3.5366682e-11, ..., 5.2099568e-07,\n        3.3333574e-09, 9.0781861e-12]], dtype=float32)"
     },
     "execution_count": 27,
     "metadata": {},
     "output_type": "execute_result"
    }
   ],
   "source": [
    "# Evaluate\n",
    "\n",
    "test_loss, test_acc = model.evaluate(test_images,  test_labels_one_hot, verbose=2)\n",
    "\n",
    "model.predict(test_images)"
   ],
   "metadata": {
    "collapsed": false,
    "pycharm": {
     "name": "#%%\n"
    }
   }
  }
 ],
 "metadata": {
  "kernelspec": {
   "display_name": "Python 3",
   "language": "python",
   "name": "python3"
  },
  "language_info": {
   "codemirror_mode": {
    "name": "ipython",
    "version": 3
   },
   "file_extension": ".py",
   "mimetype": "text/x-python",
   "name": "python",
   "nbconvert_exporter": "python",
   "pygments_lexer": "ipython3",
   "version": "3.7.3"
  }
 },
 "nbformat": 4,
 "nbformat_minor": 2
}